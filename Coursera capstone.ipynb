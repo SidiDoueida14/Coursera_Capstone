{
 "cells": [
  {
   "cell_type": "markdown",
   "id": "little-sunset",
   "metadata": {},
   "source": [
    "# Hello Capstone Project course"
   ]
  },
  {
   "cell_type": "code",
   "execution_count": 1,
   "id": "august-monaco",
   "metadata": {},
   "outputs": [],
   "source": [
    "import pandas as pd\n",
    "import numpy as np\n",
    "from sklearn.datasets import load_iris\n",
    "from sklearn.linear_model import LogisticRegression\n",
    "from sklearn.model_selection import train_test_split"
   ]
  },
  {
   "cell_type": "markdown",
   "id": "advance-johns",
   "metadata": {},
   "source": [
    "## Importing iris flowers datasets"
   ]
  },
  {
   "cell_type": "code",
   "execution_count": 4,
   "id": "passing-huntington",
   "metadata": {},
   "outputs": [],
   "source": [
    "\n",
    "iris = load_iris()\n",
    "X_train,X_test,y_train,y_test = train_test_split(iris.data,iris.target,random_state=0)"
   ]
  },
  {
   "cell_type": "markdown",
   "id": "union-amino",
   "metadata": {},
   "source": [
    "### creating LOGISTICREGRESSSION OBJECT"
   ]
  },
  {
   "cell_type": "code",
   "execution_count": 7,
   "id": "changed-array",
   "metadata": {},
   "outputs": [
    {
     "name": "stdout",
     "output_type": "stream",
     "text": [
      "log on train data 0.9821428571428571\n",
      "log on test data 0.9736842105263158\n"
     ]
    }
   ],
   "source": [
    "log = LogisticRegression(max_iter=10000)\n",
    "log.fit(X_train,y_train)\n",
    "print(\"log on train data {}\".format(log.score(X_train,y_train)))\n",
    "print(\"log on test data {}\".format(log.score(X_test,y_test)))"
   ]
  }
 ],
 "metadata": {
  "kernelspec": {
   "display_name": "Python 3",
   "language": "python",
   "name": "python3"
  },
  "language_info": {
   "codemirror_mode": {
    "name": "ipython",
    "version": 3
   },
   "file_extension": ".py",
   "mimetype": "text/x-python",
   "name": "python",
   "nbconvert_exporter": "python",
   "pygments_lexer": "ipython3",
   "version": "3.8.5"
  }
 },
 "nbformat": 4,
 "nbformat_minor": 5
}
